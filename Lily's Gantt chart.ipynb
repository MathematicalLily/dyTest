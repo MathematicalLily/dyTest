{
 "cells": [
  {
   "cell_type": "code",
   "execution_count": 3,
   "metadata": {},
   "outputs": [
    {
     "data": {
      "image/png": "[encoded data removed]",
      "text/plain": [
       "<Figure size 720x216 with 1 Axes>"
      ]
     },
     "metadata": {
      "needs_background": "light"
     },
     "output_type": "display_data"
    }
   ],
   "source": [
    "import pandas as pd\n",
    "import matplotlib.pyplot as plt\n",
    "import matplotlib.dates as mdates\n",
    "from datetime import datetime\n",
    "import math\n",
    "\n",
    "def timestr_to_num(timestr):\n",
    "    return mdates.date2num(datetime.strptime('0' + timestr if timestr[1] == ':' else timestr, '%I:%M:%S %p'))\n",
    "\n",
    "df = pd.DataFrame({'start': ['7:00:00 AM', '10:00:00 AM', '11:15:00 AM', '2:00:00 PM'],\n",
    "                   'finish': ['9:15:00 AM', '11:00:00 AM', '12:10:00 PM', '2:30:00 PM'],\n",
    "                   'operation': ['task 1: Create data model', 'task 2: Convert file to json', \n",
    "                                 'task 3: Import json file into mongoDB', 'task 4: Zip everything up'],\n",
    "                   'short_text': ['short text 1', 'short text 2', 'short text 1', 'short text 2']})\n",
    "\n",
    "fig, ax = plt.subplots(figsize=(10, 3))\n",
    "operations = pd.unique(df['operation'])\n",
    "colors = plt.cm.tab10.colors  # get a list of 10 colors\n",
    "colors *= math.ceil(len(operations) / (len(colors)))  # repeat the list as many times as needed\n",
    "for operation, color in zip(operations, colors):\n",
    "    for row in df[df['operation'] == operation].itertuples():\n",
    "        left = timestr_to_num(row.start)\n",
    "        right = timestr_to_num(row.finish)\n",
    "        ax.barh(operation, left=left, width=right - left, height=0.8, color=color)\n",
    "ax.set_xlim(timestr_to_num('07:00:00 AM'), timestr_to_num('4:30:00 PM'))\n",
    "ax.xaxis.set_major_formatter(mdates.DateFormatter('%H:%M'))  # display ticks as hours and minutes\n",
    "ax.xaxis.set_major_locator(mdates.HourLocator(interval=1))  # set a tick every hour\n",
    "plt.tight_layout()\n",
    "plt.title('Hourly Schedule For Dyson Coding Task')\n",
    "plt.show()"
   ]
  },
  {
   "cell_type": "code",
   "execution_count": null,
   "metadata": {},
   "outputs": [],
   "source": []
  },
  {
   "cell_type": "code",
   "execution_count": null,
   "metadata": {},
   "outputs": [],
   "source": []
  }
 ],
 "metadata": {
  "kernelspec": {
   "display_name": "Python 3",
   "language": "python",
   "name": "python3"
  },
  "language_info": {
   "codemirror_mode": {
    "name": "ipython",
    "version": 3
   },
   "file_extension": ".py",
   "mimetype": "text/x-python",
   "name": "python",
   "nbconvert_exporter": "python",
   "pygments_lexer": "ipython3",
   "version": "3.8.3"
  }
 },
 "nbformat": 4,
 "nbformat_minor": 4
}
